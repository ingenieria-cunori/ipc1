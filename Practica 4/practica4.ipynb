{
 "cells": [
  {
   "cell_type": "markdown",
   "id": "60ce32ff-28dc-4b3d-800c-94a084c9fd54",
   "metadata": {},
   "source": [
    "Programación Orientada a Objetos"
   ]
  },
  {
   "cell_type": "code",
   "execution_count": 1,
   "id": "2454555d-571b-4219-ab59-32cfa15acb5f",
   "metadata": {},
   "outputs": [],
   "source": [
    "from models.alumno import Alumno"
   ]
  },
  {
   "cell_type": "code",
   "execution_count": 2,
   "id": "305c3ba2-d473-4314-9608-ff9f7822dfe2",
   "metadata": {},
   "outputs": [],
   "source": [
    "x = Alumno('asdfasdf','asdfasdf','adfasdf')"
   ]
  },
  {
   "cell_type": "code",
   "execution_count": 3,
   "id": "0683cadd-7766-43d3-8acf-80b4949493f3",
   "metadata": {},
   "outputs": [
    {
     "name": "stdout",
     "output_type": "stream",
     "text": [
      "carne: asdfasdf, nombre: asdfasdf, carrera: adfasdf\n"
     ]
    }
   ],
   "source": [
    "x.toString()"
   ]
  },
  {
   "cell_type": "code",
   "execution_count": 4,
   "id": "c8295ea0-7d3f-48ae-a342-752e4c709cea",
   "metadata": {},
   "outputs": [],
   "source": [
    "from models.perro import Perro"
   ]
  },
  {
   "cell_type": "code",
   "execution_count": 5,
   "id": "fdf97d0a-7564-4ea6-b081-af673122fe18",
   "metadata": {},
   "outputs": [],
   "source": [
    "obj1 = Perro('Firulais')\n",
    "obj2 = Perro('Rambo')"
   ]
  },
  {
   "cell_type": "code",
   "execution_count": 7,
   "id": "255bd9ad-ec30-4151-8cc2-c4d835845063",
   "metadata": {},
   "outputs": [
    {
     "name": "stdout",
     "output_type": "stream",
     "text": [
      "Firulais raza: Chihuahua\n",
      "Rambo raza: Chihuahua\n"
     ]
    }
   ],
   "source": [
    "obj1.toString()\n",
    "obj2.toString()"
   ]
  },
  {
   "cell_type": "code",
   "execution_count": 1,
   "id": "b5608d59-87bf-49f4-ac9c-967f05fb0286",
   "metadata": {},
   "outputs": [],
   "source": [
    "from models.estudiante import Estudiante"
   ]
  },
  {
   "cell_type": "code",
   "execution_count": 2,
   "id": "029d3411-c7a8-434e-aad0-b222cdb3defa",
   "metadata": {},
   "outputs": [],
   "source": [
    "estudiantes = []"
   ]
  },
  {
   "cell_type": "code",
   "execution_count": 3,
   "id": "cb1a28f9-e1bd-4b76-92b0-464f7b7f46f6",
   "metadata": {},
   "outputs": [],
   "source": [
    "e = Estudiante(2022046574, 'Juan Pérez', 'Ingeniería', {90 : 'Progra 1', 92 : 'Progra 2'})"
   ]
  },
  {
   "cell_type": "code",
   "execution_count": 4,
   "id": "eed69cfe-a7bb-4ddd-a7d5-bf4ccf3dffa2",
   "metadata": {},
   "outputs": [
    {
     "name": "stdout",
     "output_type": "stream",
     "text": [
      "Carné: 2022046574, Nombre: Juan Pérez, Carrera: Ingeniería, Cursos: {90: 'Progra 1', 92: 'Progra 2'}\n"
     ]
    }
   ],
   "source": [
    "e.toString()"
   ]
  },
  {
   "cell_type": "code",
   "execution_count": 5,
   "id": "661c705c-9769-4c4b-8ce2-6c53affc6bc0",
   "metadata": {},
   "outputs": [],
   "source": [
    "estudiantes.append(e)"
   ]
  },
  {
   "cell_type": "code",
   "execution_count": 6,
   "id": "cc8e1830-a95e-43f3-ba7c-9e6b050e091d",
   "metadata": {},
   "outputs": [
    {
     "name": "stdout",
     "output_type": "stream",
     "text": [
      "Carné: 2022046574, Nombre: Juan Pérez, Carrera: Ingeniería, Cursos: {90: 'Progra 1', 92: 'Progra 2'}\n",
      "None\n"
     ]
    }
   ],
   "source": [
    "for e in estudiantes:\n",
    "    print(e.toString())"
   ]
  },
  {
   "cell_type": "code",
   "execution_count": 7,
   "id": "c6133c46-8f80-41c2-bbff-c34c460e94ae",
   "metadata": {},
   "outputs": [],
   "source": [
    "j = Estudiante(2021456723, 'María López', 'Ingeniería Civil', {})"
   ]
  },
  {
   "cell_type": "code",
   "execution_count": 8,
   "id": "807d68da-4e59-4e1c-9268-c2f689fbd40e",
   "metadata": {},
   "outputs": [],
   "source": [
    "estudiantes.append(j)"
   ]
  },
  {
   "cell_type": "code",
   "execution_count": 9,
   "id": "2c52c84b-8185-4d71-940e-b257837dcec1",
   "metadata": {},
   "outputs": [
    {
     "name": "stdout",
     "output_type": "stream",
     "text": [
      "Carné: 2022046574, Nombre: Juan Pérez, Carrera: Ingeniería, Cursos: {90: 'Progra 1', 92: 'Progra 2'}\n",
      "None\n",
      "Carné: 2021456723, Nombre: María López, Carrera: Ingeniería Civil, Cursos: {}\n",
      "None\n"
     ]
    }
   ],
   "source": [
    "for e in estudiantes:\n",
    "    print(e.toString())"
   ]
  },
  {
   "cell_type": "code",
   "execution_count": 13,
   "id": "67ba32f9-f31f-4f07-9ad6-91a362c61c7b",
   "metadata": {},
   "outputs": [
    {
     "name": "stdout",
     "output_type": "stream",
     "text": [
      "XXX. II\n",
      "Int. Progra. I\n"
     ]
    }
   ],
   "source": [
    "dic = {990:'XXX. II' ,791: 'Int. Progra. I'}\n",
    "for d in dic:\n",
    "    print(dic[d])"
   ]
  },
  {
   "cell_type": "code",
   "execution_count": 14,
   "id": "eed64667-3392-4917-a57f-87ff4b19e3e8",
   "metadata": {},
   "outputs": [],
   "source": [
    "for e in estudiantes:\n",
    "    if e.carne == 2021456723:\n",
    "        e.addCurso(dic)"
   ]
  },
  {
   "cell_type": "code",
   "execution_count": 15,
   "id": "1b8b4f8e-5a10-481b-bf2a-56c76c7cb39e",
   "metadata": {},
   "outputs": [
    {
     "name": "stdout",
     "output_type": "stream",
     "text": [
      "Carné: 2022046574, Nombre: Juan Pérez, Carrera: Ingeniería, Cursos: {90: 'Progra 1', 92: 'Progra 2'}\n",
      "None\n",
      "Carné: 2021456723, Nombre: María López, Carrera: Ingeniería Civil, Cursos: {770: 'Int. Progra. II', 791: 'Int. Progra. I', 990: 'XXX. II'}\n",
      "None\n"
     ]
    }
   ],
   "source": [
    "for e in estudiantes:\n",
    "    print(e.toString())"
   ]
  }
 ],
 "metadata": {
  "kernelspec": {
   "display_name": "Python 3",
   "language": "python",
   "name": "python3"
  },
  "language_info": {
   "codemirror_mode": {
    "name": "ipython",
    "version": 3
   },
   "file_extension": ".py",
   "mimetype": "text/x-python",
   "name": "python",
   "nbconvert_exporter": "python",
   "pygments_lexer": "ipython3",
   "version": "3.8.8"
  }
 },
 "nbformat": 4,
 "nbformat_minor": 5
}
