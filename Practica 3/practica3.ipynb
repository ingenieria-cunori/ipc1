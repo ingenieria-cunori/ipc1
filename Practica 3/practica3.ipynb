{
 "cells": [
  {
   "cell_type": "markdown",
   "id": "9d0c1317-5828-4c97-9669-34ab3cf90e7f",
   "metadata": {},
   "source": [
    "FUNCIONES"
   ]
  },
  {
   "cell_type": "code",
   "execution_count": 1,
   "id": "dc0570b1-aa1b-4d7d-853e-6019c86a8ae5",
   "metadata": {},
   "outputs": [],
   "source": [
    "def saludar():\n",
    "    print (\"Hola desde una función\")"
   ]
  },
  {
   "cell_type": "code",
   "execution_count": 3,
   "id": "05be9ded-aca3-42ac-9371-38927f01962d",
   "metadata": {},
   "outputs": [
    {
     "name": "stdout",
     "output_type": "stream",
     "text": [
      "Hola desde una función\n"
     ]
    }
   ],
   "source": [
    "saludar()"
   ]
  },
  {
   "cell_type": "markdown",
   "id": "fea866fd-369a-4f0a-930e-6b8cfeca94e2",
   "metadata": {},
   "source": [
    "PARAMETROS"
   ]
  },
  {
   "cell_type": "code",
   "execution_count": 5,
   "id": "7a0a791a-2aa1-4df2-a066-9ec5d58c9d99",
   "metadata": {},
   "outputs": [],
   "source": [
    "def sumar(num1, num2):\n",
    "    print (num1 + num2)"
   ]
  },
  {
   "cell_type": "code",
   "execution_count": 7,
   "id": "19201c93-0d40-42a0-b441-d6bbe2ce11a7",
   "metadata": {},
   "outputs": [
    {
     "name": "stdout",
     "output_type": "stream",
     "text": [
      "9\n"
     ]
    }
   ],
   "source": [
    "sumar(4,5)"
   ]
  },
  {
   "cell_type": "code",
   "execution_count": 8,
   "id": "7774b07a-96de-45e9-8f75-41b2ce5bd11c",
   "metadata": {},
   "outputs": [],
   "source": [
    "# valor por defecto quiere decir que cuando NO se le envie ese parámetro a la \n",
    "# función, por defecto tomará el valor de asignado\n",
    "def sumar(num1, num2 = 10):\n",
    "    print (num1 + num2)"
   ]
  },
  {
   "cell_type": "code",
   "execution_count": 10,
   "id": "5e694456-a06e-4926-bb0a-a76d31a042d1",
   "metadata": {},
   "outputs": [
    {
     "name": "stdout",
     "output_type": "stream",
     "text": [
      "70\n",
      "100\n"
     ]
    }
   ],
   "source": [
    "sumar(20,50)\n",
    "sumar(90)"
   ]
  },
  {
   "cell_type": "code",
   "execution_count": 12,
   "id": "21e46144-2c29-450e-ac18-ca3df26b75c5",
   "metadata": {},
   "outputs": [
    {
     "name": "stdout",
     "output_type": "stream",
     "text": [
      "15\n",
      "10\n",
      "25\n"
     ]
    }
   ],
   "source": [
    "## Definiendo el orden de asignación de parámetros\n",
    "def sumar(number1, number2=20):\n",
    "    print (number1)\n",
    "    print (number2)\n",
    "    print (number1 + number2)\n",
    "\n",
    "sumar(number2=10, number1=15)"
   ]
  },
  {
   "cell_type": "code",
   "execution_count": 13,
   "id": "298f390d-8a5b-4fd6-ae06-614168fbeefb",
   "metadata": {},
   "outputs": [],
   "source": [
    "## Listas como parámetros\n",
    "def sumar(numeros):\n",
    "    r = 0\n",
    "    for n in numeros:\n",
    "        r+=n\n",
    "    print (r)"
   ]
  },
  {
   "cell_type": "code",
   "execution_count": 61,
   "id": "5986f658-205f-453d-834d-5fca98954851",
   "metadata": {},
   "outputs": [
    {
     "name": "stdout",
     "output_type": "stream",
     "text": [
      "45\n"
     ]
    }
   ],
   "source": [
    "sumar([0,1,2,3,4,5,6,7,8,9])"
   ]
  },
  {
   "cell_type": "code",
   "execution_count": 75,
   "id": "776c2805-26d8-487f-ac32-f0a828cfb647",
   "metadata": {},
   "outputs": [],
   "source": [
    "# UTILIDAD DEL * \n",
    "# Recepción de múchos parámetros\n",
    "# *p = 0 o más parámetros\n",
    "# p, *ps\n",
    "# p1, p2, p3, ps*\n",
    "\n",
    "# NO VÁLIDO\n",
    "# *ps, *ps2\n",
    "\n",
    "# VÁLIDO\n",
    "# def funcion(*ps, p1=0).\n",
    "# def funcion(p1, *ps, p2=0, p3=0).\n",
    "# def funcion(p1, *ps, p2, p3=0). \n",
    "# En este caso es obligatorio indicar el parámetro p2 con su nombre al \n",
    "# invocar a la función de esta manera, por ejemplo: funcion(0, 1, 2, 3, p2=4).\n",
    "def saludar(*nombre):\n",
    "    print (type(nombre))\n",
    "    print (nombre)\n",
    "    for n in nombre:\n",
    "        print (f\"Hola, {n}\")"
   ]
  },
  {
   "cell_type": "code",
   "execution_count": 76,
   "id": "41440f5c-3014-4bd1-a0a7-c4a69807f78c",
   "metadata": {},
   "outputs": [
    {
     "name": "stdout",
     "output_type": "stream",
     "text": [
      "<class 'tuple'>\n",
      "('A', 'B', 'C', 'D')\n",
      "Hola, A\n",
      "Hola, B\n",
      "Hola, C\n",
      "Hola, D\n"
     ]
    }
   ],
   "source": [
    "saludar(\"A\",\"B\",\"C\",\"D\")"
   ]
  },
  {
   "cell_type": "code",
   "execution_count": 79,
   "id": "bfb67ffa-eb8d-41b3-9723-eaf35d363517",
   "metadata": {},
   "outputs": [
    {
     "name": "stdout",
     "output_type": "stream",
     "text": [
      "texto texto texto texto texto \n",
      "[1, 2, 3, 1, 2, 3, 1, 2, 3, 1, 2, 3, 1, 2, 3]\n",
      "('a', 'b', 'c', 'a', 'b', 'c', 'a', 'b', 'c', 'a', 'b', 'c', 'a', 'b', 'c')\n"
     ]
    }
   ],
   "source": [
    "# Replicar cadenas de texto , listas o tuplas\n",
    "print ('texto ' * 5)\n",
    "print ([1,2,3] * 5)\n",
    "print (('a','b','c') * 5)"
   ]
  },
  {
   "cell_type": "code",
   "execution_count": 71,
   "id": "8dc1fd96-a39c-4d2d-b2a1-5db3be1b4f47",
   "metadata": {},
   "outputs": [
    {
     "name": "stdout",
     "output_type": "stream",
     "text": [
      "8\n"
     ]
    }
   ],
   "source": [
    "# Doble asterisco\n",
    "# El asterisco doble ** en Python se utiliza para calcular potencias (2 ** 3), \n",
    "print (2**3)"
   ]
  },
  {
   "cell_type": "code",
   "execution_count": 72,
   "id": "91d645e9-a484-413b-aa6d-e68b6454985b",
   "metadata": {},
   "outputs": [
    {
     "name": "stdout",
     "output_type": "stream",
     "text": [
      "{'nombre1': 'Juan', 'nombre2': 'Laura', 'nombre3': 'Lucía'}\n",
      "¡Hola, Juan!\n",
      "¡Hola, Laura!\n",
      "¡Hola, Lucía!\n"
     ]
    }
   ],
   "source": [
    "# aceptar múltiples parámetros con nombre en funciones (def f(**args)),\n",
    "def saludar(**nombres):\n",
    "    print(nombres)\n",
    "    for parametro in nombres:\n",
    "        print(f'¡Hola, {nombres[parametro]}!')\n",
    "        \n",
    "saludar(nombre1='Juan', nombre2='Laura', nombre3='Lucía')"
   ]
  },
  {
   "cell_type": "code",
   "execution_count": 73,
   "id": "4b187851-6758-415e-91ea-43ef9d672749",
   "metadata": {},
   "outputs": [
    {
     "name": "stdout",
     "output_type": "stream",
     "text": [
      "{'01': 'Enero', '02': 'Febrero', '03': 'Marzo', '04': 'Abril', '05': 'Mayo'}\n"
     ]
    }
   ],
   "source": [
    "# desempaquetar diccionarios en otros diccionarios (diccionario = {**d1, **d2}).\n",
    "meses1 = {'01':'Enero', '02':'Febrero', '03':'Marzo'}\n",
    "meses2 = {'04':'Abril', '05':'Mayo'}\n",
    "meses = {**meses1, **meses2}\n",
    "print(meses)"
   ]
  },
  {
   "cell_type": "code",
   "execution_count": 21,
   "id": "5283f9aa-d32d-45ab-adbb-15965100ad09",
   "metadata": {},
   "outputs": [],
   "source": [
    "# write Fibonacci series up to n\n",
    "def fib(n):\n",
    "    a, b = 0, 1\n",
    "    while a < n:\n",
    "        print(a, end=' ')\n",
    "        a, b = b, a+b\n",
    "    print()"
   ]
  },
  {
   "cell_type": "code",
   "execution_count": 22,
   "id": "bb8e519d-ffcf-44de-9562-cb897db18c83",
   "metadata": {},
   "outputs": [
    {
     "name": "stdout",
     "output_type": "stream",
     "text": [
      "0 1 1 2 3 5 8 13 \n"
     ]
    }
   ],
   "source": [
    "fib(15)"
   ]
  },
  {
   "cell_type": "code",
   "execution_count": 24,
   "id": "72ba87cf-734e-451b-b2c6-45b05fdf7055",
   "metadata": {},
   "outputs": [],
   "source": [
    "# write Fibonacci series up to n\n",
    "def fib2(n):\n",
    "    r = []\n",
    "    a, b = 0, 1\n",
    "    while a < n:\n",
    "        r.append(a)        \n",
    "        a, b = b, a+b\n",
    "    return r"
   ]
  },
  {
   "cell_type": "code",
   "execution_count": 25,
   "id": "bbe466ca-030b-4d48-a743-fb121b4c8a68",
   "metadata": {},
   "outputs": [
    {
     "name": "stdout",
     "output_type": "stream",
     "text": [
      "[0, 1, 1, 2, 3, 5, 8]\n"
     ]
    }
   ],
   "source": [
    "print (fib2(10))"
   ]
  },
  {
   "cell_type": "code",
   "execution_count": 28,
   "id": "3360728b-1f6e-4039-8ca0-eed8bf5fdc76",
   "metadata": {},
   "outputs": [],
   "source": [
    "def ask_ok(prompt, retries=4, reminder='Please try again!'):\n",
    "    while True:\n",
    "        ok = input(prompt)\n",
    "        if ok in ('y', 'ye', 'yes'):\n",
    "            return True\n",
    "        if ok in ('n', 'no', 'nop', 'nope'):\n",
    "            return False\n",
    "        retries = retries - 1\n",
    "        if retries < 0:\n",
    "            raise ValueError('invalid user response')\n",
    "        print(reminder)"
   ]
  },
  {
   "cell_type": "markdown",
   "id": "34c1e676-dae2-40d3-938d-12670aec9410",
   "metadata": {},
   "source": [
    "FUNCIONES DEFINIDAS"
   ]
  },
  {
   "cell_type": "code",
   "execution_count": 44,
   "id": "6b0ba585-243b-4807-84cd-f2c25c1d3465",
   "metadata": {},
   "outputs": [],
   "source": [
    "l = [1,2,3,4]\n",
    "t = (6,7,8,9)\n",
    "s = set([1,1,2,2,4,4])\n",
    "fs = frozenset([5,5,6,6,7,7])\n",
    "d = ({1:'a', 2:'b'})"
   ]
  },
  {
   "cell_type": "code",
   "execution_count": 47,
   "id": "f4629fe0-bb0a-44e8-a673-73774cef6670",
   "metadata": {},
   "outputs": [
    {
     "name": "stdout",
     "output_type": "stream",
     "text": [
      "4\n",
      "9\n",
      "4\n",
      "7\n",
      "2\n"
     ]
    }
   ],
   "source": [
    "print (max(l))\n",
    "print (max(t))\n",
    "print (max(s))\n",
    "print (max(fs))\n",
    "print (max(d))"
   ]
  },
  {
   "cell_type": "code",
   "execution_count": 48,
   "id": "78656c76-3da4-4da6-b7e0-d751f7892f76",
   "metadata": {},
   "outputs": [
    {
     "data": {
      "text/plain": [
       "\"\\nINVALID\\nmax(2, 'a')\\nmax([1, 2, 3, 'a'])\\nmax([])\\n\""
      ]
     },
     "execution_count": 48,
     "metadata": {},
     "output_type": "execute_result"
    }
   ],
   "source": [
    "'''\n",
    "INVALID\n",
    "max(2, 'a')\n",
    "max([1, 2, 3, 'a'])\n",
    "max([])\n",
    "'''"
   ]
  },
  {
   "cell_type": "code",
   "execution_count": 50,
   "id": "6f27fc68-e557-4aec-be8c-bed4e139cf56",
   "metadata": {},
   "outputs": [
    {
     "name": "stdout",
     "output_type": "stream",
     "text": [
      "1\n",
      "6\n",
      "1\n",
      "5\n",
      "1\n"
     ]
    }
   ],
   "source": [
    "# l = [1,2,3,4]\n",
    "# t = (6,7,8,9)\n",
    "# s = set([1,1,2,2,4,4])\n",
    "# fs = frozenset([5,5,6,6,7,7])\n",
    "# d = ({1:'a', 2:'b'})\n",
    "print (min(l))\n",
    "print (min(t))\n",
    "print (min(s))\n",
    "print (min(fs))\n",
    "print (min(d))"
   ]
  },
  {
   "cell_type": "code",
   "execution_count": 55,
   "id": "0de25100-a38e-45e7-9d7f-9264869a0286",
   "metadata": {},
   "outputs": [
    {
     "name": "stdout",
     "output_type": "stream",
     "text": [
      "(1, 2)\n",
      "<class 'tuple'>\n"
     ]
    }
   ],
   "source": [
    "print (divmod(7,5))\n",
    "print (type(divmod(7,5)))"
   ]
  },
  {
   "cell_type": "code",
   "execution_count": 58,
   "id": "dcecd2c2-b75e-404c-9034-06c5423071c9",
   "metadata": {},
   "outputs": [
    {
     "name": "stdout",
     "output_type": "stream",
     "text": [
      "0x9\n",
      "0xc\n"
     ]
    }
   ],
   "source": [
    "print(hex(9))\n",
    "print(hex(12))"
   ]
  },
  {
   "cell_type": "code",
   "execution_count": 60,
   "id": "c0ff3e97-5c40-4b7f-b876-3022290bc47a",
   "metadata": {},
   "outputs": [
    {
     "name": "stdout",
     "output_type": "stream",
     "text": [
      "4\n",
      "4\n",
      "3\n",
      "3\n",
      "2\n"
     ]
    }
   ],
   "source": [
    "# l = [1,2,3,4]\n",
    "# t = (6,7,8,9)\n",
    "# s = set([1,1,2,2,4,4])\n",
    "# fs = frozenset([5,5,6,6,7,7])\n",
    "# d = ({1:'a', 2:'b'})\n",
    "print (len(l))\n",
    "print (len(t))\n",
    "print (len(s))\n",
    "print (len(fs))\n",
    "print (len(d))"
   ]
  },
  {
   "cell_type": "markdown",
   "id": "7e3e788c-3a10-449f-a1e3-bc61d3cd8c82",
   "metadata": {},
   "source": [
    "RECURSIVIDAD"
   ]
  },
  {
   "cell_type": "code",
   "execution_count": 98,
   "id": "40783232-e027-4937-b120-01871114a961",
   "metadata": {},
   "outputs": [
    {
     "name": "stdout",
     "output_type": "stream",
     "text": [
      "16\n"
     ]
    }
   ],
   "source": [
    "'''\n",
    "Recursión o recursividad es la forma en la cual se especifica un proceso \n",
    "basado en su propia definición\n",
    "https://es.wikipedia.org/wiki/Recursi%C3%B3n\n",
    "\n",
    "Evaluar la PRECONDICIÓN\n",
    "PRECONDICIÓN -> CASO BASE\n",
    "'''\n",
    "def potencia(b,n):\n",
    "    \"\"\" Precondición: n debe ser mayor o igual que cero.\n",
    "        Devuelve: b\\^n. \"\"\"\n",
    "    # Caso base\n",
    "    if n <= 0:\n",
    "        return 1\n",
    "    # n par\n",
    "    if n % 2 == 0:\n",
    "        pot = potencia(b, n/2)\n",
    "        return pot * pot\n",
    "    # n impar\n",
    "    else:\n",
    "        pot = potencia(b, (n-1)/2)\n",
    "        return pot * pot * b\n",
    "'''\n",
    "potencia(2,10)\n",
    "    pot = potencia(2,5)               # b → 2 n → 10\n",
    "        pot = potencia(2,2)           # b → 2 n → 5\n",
    "            pot = potencia(2,1)       # b → 2 n → 2\n",
    "                pot = potencia(2,0)   # b → 2 n → 1\n",
    "                    return 1          # b → 2 n → 0\n",
    "                return 1 * 1 * 2      # b → 2 n → 1 pot → 1\n",
    "            return 2 * 2              # b → 2 n → 2 pot → 2\n",
    "        return 4 * 4 * 2              # b → 2 n → 5 pot → 4\n",
    "    return 32 * 32                    # b → 2 n → 10 pot → 32\n",
    "'''\n",
    "print (potencia(2,4))"
   ]
  },
  {
   "cell_type": "code",
   "execution_count": null,
   "id": "3e43112a-d4ed-431a-9d97-3c14d212194f",
   "metadata": {},
   "outputs": [],
   "source": [
    "#Esto no es recursivo\n",
    "libros = [50, 100, 75, 100, 200]\n",
    "total = 0\n",
    "for libro in libros:\n",
    "    total+=libro\n",
    "print(total)"
   ]
  },
  {
   "cell_type": "code",
   "execution_count": 96,
   "id": "9b1b398f-cac3-4281-9d97-2e1ca46092b0",
   "metadata": {},
   "outputs": [
    {
     "name": "stdout",
     "output_type": "stream",
     "text": [
      "100\n"
     ]
    }
   ],
   "source": [
    "def totalPaginas(libros):\n",
    "    if len(libros) == 1:\n",
    "        return libros[0]\n",
    "    return libros[0] + totalPaginas(libros[1:])\n",
    "\n",
    "print (totalPaginas([10,20,20,50]))"
   ]
  },
  {
   "cell_type": "code",
   "execution_count": 82,
   "id": "d944c155-1e2b-4d94-8e0f-ca4a63e09e3e",
   "metadata": {},
   "outputs": [],
   "source": [
    "def cuenta_regresiva(numero):\n",
    "    numero -= 1\n",
    "    if numero > 0:\n",
    "        print (numero)\n",
    "        cuenta_regresiva(numero)\n",
    "    else:\n",
    "        print (\"Boooooooom!\")\n",
    "        print (\"Fin de la función\", numero)"
   ]
  },
  {
   "cell_type": "code",
   "execution_count": 84,
   "id": "6240682d-778f-4d10-9182-62d763c1848e",
   "metadata": {},
   "outputs": [
    {
     "name": "stdout",
     "output_type": "stream",
     "text": [
      "9\n",
      "8\n",
      "7\n",
      "6\n",
      "5\n",
      "4\n",
      "3\n",
      "2\n",
      "1\n",
      "Boooooooom!\n",
      "Fin de la función 0\n"
     ]
    }
   ],
   "source": [
    "cuenta_regresiva(10)"
   ]
  },
  {
   "cell_type": "code",
   "execution_count": 91,
   "id": "b88dcac5-3b43-46d2-9e99-f31aaf6d3bf8",
   "metadata": {},
   "outputs": [],
   "source": [
    "def factorial(numero):\n",
    "    print (\"Valor inicial ->\",numero)\n",
    "    if numero > 1:\n",
    "        numero = numero * factorial(numero -1)\n",
    "    print (\"valor final ->\",numero)\n",
    "    return numero"
   ]
  },
  {
   "cell_type": "code",
   "execution_count": 92,
   "id": "aeccf733-66e2-4aac-b3f8-6934daa08e64",
   "metadata": {},
   "outputs": [
    {
     "name": "stdout",
     "output_type": "stream",
     "text": [
      "Valor inicial -> 5\n",
      "Valor inicial -> 4\n",
      "Valor inicial -> 3\n",
      "Valor inicial -> 2\n",
      "Valor inicial -> 1\n",
      "valor final -> 1\n",
      "valor final -> 2\n",
      "valor final -> 6\n",
      "valor final -> 24\n",
      "valor final -> 120\n",
      "120\n"
     ]
    }
   ],
   "source": [
    "print (factorial(5))"
   ]
  },
  {
   "cell_type": "code",
   "execution_count": null,
   "id": "2c9e4f04-7e69-4de3-a9d7-3e631cad7c44",
   "metadata": {},
   "outputs": [],
   "source": []
  }
 ],
 "metadata": {
  "kernelspec": {
   "display_name": "Python 3",
   "language": "python",
   "name": "python3"
  },
  "language_info": {
   "codemirror_mode": {
    "name": "ipython",
    "version": 3
   },
   "file_extension": ".py",
   "mimetype": "text/x-python",
   "name": "python",
   "nbconvert_exporter": "python",
   "pygments_lexer": "ipython3",
   "version": "3.8.8"
  }
 },
 "nbformat": 4,
 "nbformat_minor": 5
}
