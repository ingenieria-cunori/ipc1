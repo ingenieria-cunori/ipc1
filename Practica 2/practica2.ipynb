{
 "cells": [
  {
   "cell_type": "code",
   "execution_count": 23,
   "id": "164b8acb-0002-4b5a-abc9-beede8388467",
   "metadata": {},
   "outputs": [
    {
     "name": "stdout",
     "output_type": "stream",
     "text": [
      "Hello, Python world\n",
      "Programming is an important skill for Data Science\n",
      "Statistics is a important skill for Data Science\n",
      "Business domain knowledge is a important skill for Data Science\n"
     ]
    }
   ],
   "source": [
    "'''\n",
    "CARACTERÍSTICAS:\n",
    "- LENGUAJE DE PROPÓSITO GENERAL\n",
    "- MULTIPARADIGMA poo, imperativa (sentencias bucles), funcional (módulos y funciones)\n",
    "- INTERPRETADO\n",
    "- MULTIPLATAFORMA\n",
    "- TIPADO DINÁMICO, no es necesario decirle el tipo de dato a la variable\n",
    "- FUERTEMENTE TIPADO, no permite sumar números y texto\n",
    "- ORIENTADO A OBJETOS\n",
    "'''\n",
    "print (\"Hello, Python world\")\n",
    "# Correct indentation\n",
    "print (\"Programming is an important skill for Data Science\")\n",
    "print (\"Statistics is a important skill for Data Science\")\n",
    "print (\"Business domain knowledge is a important skill for Data Science\")"
   ]
  },
  {
   "cell_type": "code",
   "execution_count": 24,
   "id": "2b5ad145-97f2-4ea7-846a-4c03833ad43b",
   "metadata": {},
   "outputs": [
    {
     "name": "stdout",
     "output_type": "stream",
     "text": [
      "Python object types\n",
      "<class 'NoneType'> None\n",
      "<class 'bool'> True\n",
      "<class 'int'> 1\n",
      "<class 'float'> 3.14\n",
      "<class 'float'> 3.14\n",
      "<class 'float'> inf\n",
      "<class 'float'> nan\n",
      "<class 'complex'> (2+8j)\n",
      "<class 'str'> this is a string\n",
      "<class 'str'> also me\n",
      "<class 'tuple'> (1, True, 'ML')\n",
      "<class 'list'> [1, True, 'ML']\n",
      "<class 'set'> {1, 2, 3, 4, 5}\n",
      "<class 'dict'> {'a': 'A', 2: 'AA', True: 1, False: 0}\n"
     ]
    }
   ],
   "source": [
    "print ('Python object types')\n",
    "none = None # singleton null object\n",
    "boolean = bool(True)\n",
    "integer = 1\n",
    "Long = 3.14\n",
    "# float\n",
    "Float = 3.14\n",
    "Float_inf = float('inf')\n",
    "Float_nan = float('nan')\n",
    "# complex object type, note the usage of letter j\n",
    "Complex = 2+8j\n",
    "# string can be enclosed in single or double quote\n",
    "string = 'this is a string'\n",
    "me_also_string = \"also me\"\n",
    "List = [1, True, 'ML'] # Values can be changed\n",
    "Tuple = (1, True, 'ML') # Values can not be changed\n",
    "Set = set([1,2,2,2,3,4,5,5]) # Duplicates will not be stored '**conjunto**'\n",
    "# Use a dictionary when you have a set of unique keys that map to values\n",
    "Dictionary = {'a':'A', 2:'AA', True:1, False:0}\n",
    "# lets print the object type and the value\n",
    "print (type(none), none)\n",
    "print (type(boolean), boolean)\n",
    "print (type(integer), integer)\n",
    "print (type(Long), Long)\n",
    "print (type(Float), Float)\n",
    "print (type(Float_inf), Float_inf)\n",
    "print (type(Float_nan), Float_nan)\n",
    "print (type(Complex), Complex)\n",
    "print (type(string), string)\n",
    "print (type(me_also_string), me_also_string)\n",
    "print (type(Tuple), Tuple)\n",
    "print (type(List), List)\n",
    "print (type(Set), Set)\n",
    "print (type(Dictionary), Dictionary)"
   ]
  },
  {
   "cell_type": "code",
   "execution_count": 25,
   "id": "ae206806-9e1a-410d-ad6d-c66df19defb9",
   "metadata": {},
   "outputs": [
    {
     "name": "stdout",
     "output_type": "stream",
     "text": [
      "Hello Python World\n",
      "x has a value of 1234\n",
      "y has a value of 121112\n",
      "['Monday', 'Tuesday', 'Wednesday', 'Thursday', 'Friday']\n",
      "{'Sunday', 'Saturday'}\n"
     ]
    }
   ],
   "source": [
    "# This is a single line comment in Python\n",
    "print (\"Hello Python World\") # This is also a single line comment in Python\n",
    "\n",
    "\"\"\" This is an example of a multi line\n",
    "comment that runs into multiple lines.\n",
    "Everything that is in between is considered as comments\n",
    "\"\"\"\n",
    "# Example of implicit line continuation\n",
    "x = ('1' + '2' +\n",
    "    '3' + '4')\n",
    "\n",
    "# Example of explicit line continuation\n",
    "y = '1' + '2' + \\\n",
    "    '11' + '12'\n",
    "\n",
    "weekdays = ['Monday', 'Tuesday', 'Wednesday',\n",
    "'Thursday', 'Friday']\n",
    "\n",
    "weekend = {'Saturday',\n",
    "           'Sunday'}\n",
    "\n",
    "print ('x has a value of', x)\n",
    "print ('y has a value of', y)\n",
    "print (weekdays)\n",
    "print (weekend)"
   ]
  },
  {
   "cell_type": "code",
   "execution_count": 27,
   "id": "7887077f-ad9e-41f5-908a-76759db2e6f3",
   "metadata": {},
   "outputs": [
    {
     "name": "stdout",
     "output_type": "stream",
     "text": [
      "Arithmetic Operators\n",
      "\n",
      "Addition, x(10) + y(5) =  15\n",
      "Subtraction, x(10) - y(5) =  5\n",
      "Multiplication, x(10) * y(5) =  50\n",
      "Division, x(10) / y(5) =  2.0\n",
      "Modulus, x(10) % y(5) =  0\n",
      "Exponent, x(10)**y(5) =  100000\n",
      "Floor Division, x(10)//y(5) =  2\n"
     ]
    }
   ],
   "source": [
    "print(\"Arithmetic Operators\\n\")\n",
    "# Variable x holds 10 and variable y holds 5\n",
    "x = 10\n",
    "y = 5\n",
    "# Addition\n",
    "print (\"Addition, x(10) + y(5) = \", x + y)\n",
    "# Subtraction\n",
    "print (\"Subtraction, x(10) - y(5) = \", x - y)\n",
    "# Multiplication\n",
    "print (\"Multiplication, x(10) * y(5) = \", x * y)\n",
    "# Division\n",
    "print (\"Division, x(10) / y(5) = \",x / y)\n",
    "# Modulus\n",
    "print (\"Modulus, x(10) % y(5) = \", x % y)\n",
    "# Exponent\n",
    "print (\"Exponent, x(10)**y(5) = \", x**y)\n",
    "# Integer division rounded towards minus infinity\n",
    "print (\"Floor Division, x(10)//y(5) = \", x//y)"
   ]
  },
  {
   "cell_type": "code",
   "execution_count": 28,
   "id": "4b75a4ba-9a41-45a4-a74f-494dac7663b7",
   "metadata": {},
   "outputs": [
    {
     "name": "stdout",
     "output_type": "stream",
     "text": [
      "Comparison or Relational Operators\n",
      "\n",
      "Equal check, x(10) == y(5)  False\n",
      "Not Equal check, x(10) != y(5)  True\n",
      "Less than check, x(10) <y(5)  False\n",
      "Greater than check, x(10) >y(5)  True\n",
      "Less than or equal to check, x(10) <= y(5)  False\n",
      "Greater than or equal to check, x(10) >= y(5)  True\n"
     ]
    }
   ],
   "source": [
    "print (\"Comparison or Relational Operators\\n\")\n",
    "# Variable x holds 10 and variable y holds 5\n",
    "x = 10\n",
    "y = 5\n",
    "# Equal check operation\n",
    "print (\"Equal check, x(10) == y(5) \", x == y)\n",
    "# Not Equal check operation\n",
    "print (\"Not Equal check, x(10) != y(5) \", x != y)\n",
    "# Not Equal check operation\n",
    "#print (\"Not Equal check, x(10) <>y(5) \", x<>y)\n",
    "# Less than check operation\n",
    "print (\"Less than check, x(10) <y(5) \", x<y)\n",
    "# Greater check operation\n",
    "print (\"Greater than check, x(10) >y(5) \", x>y)\n",
    "# Less than or equal check operation\n",
    "print (\"Less than or equal to check, x(10) <= y(5) \", x<= y)\n",
    "# Greater than or equal to check operation\n",
    "print (\"Greater than or equal to check, x(10) >= y(5) \", x>= y)"
   ]
  },
  {
   "cell_type": "code",
   "execution_count": 29,
   "id": "b41757d9-dd2b-4a55-8720-d34d1892f29f",
   "metadata": {},
   "outputs": [
    {
     "name": "stdout",
     "output_type": "stream",
     "text": [
      "Assignment Operators\n",
      "\n",
      "Value of a post x+=y is  15\n",
      "Value of a post x*=y is  150\n",
      "Value of a post x/=y is  15.0\n",
      "Value of a post x%=y is  5.0\n",
      "Value of x post x**=y is  9765625.0\n",
      "Value of a post x//=y is  976562.0\n"
     ]
    }
   ],
   "source": [
    "print (\"Assignment Operators\\n\")\n",
    "# Variable x holds 10 and variable y holds 5\n",
    "x = 5\n",
    "y = 10\n",
    "x += y\n",
    "print( \"Value of a post x+=y is \", x)\n",
    "x *= y\n",
    "print( \"Value of a post x*=y is \", x)\n",
    "x /= y\n",
    "print( \"Value of a post x/=y is \", x)\n",
    "x %= y\n",
    "print( \"Value of a post x%=y is \", x)\n",
    "x **= y\n",
    "print (\"Value of x post x**=y is \", x)\n",
    "x //= y\n",
    "print (\"Value of a post x//=y is \", x)"
   ]
  },
  {
   "cell_type": "code",
   "execution_count": 40,
   "id": "14e65a55-58b1-4159-a3a9-3d2cd5d304ba",
   "metadata": {},
   "outputs": [
    {
     "name": "stdout",
     "output_type": "stream",
     "text": [
      "Bitwise Operators\n",
      "\n",
      "0\n",
      "14\n",
      "14\n",
      "-11\n",
      "2\n",
      "8\n"
     ]
    }
   ],
   "source": [
    "print(\"Bitwise Operators\\n\")\n",
    "#Basic six bitwise operations\n",
    "#Let x = 10 (in binary0000 1010) and y = 4 (in binary0000 0100)\n",
    "x = 10\n",
    "y = 4\n",
    "print (x & y  ) # Bitwise AND bit a bit\n",
    "print (x | y )  # Bitwise OR bit a bit\n",
    "print (x ^ y) # Bitwise XOR bit a bit\n",
    "print (~x) # Bitwise NOT bit a bit\n",
    "print (x >> 2 ) # Right Shift Desplazamiento a la derecha\n",
    "print (y << 1)  # Left Shift Desplazamiento a la izquierda"
   ]
  },
  {
   "cell_type": "code",
   "execution_count": 42,
   "id": "a73e0c3d-7bd0-44de-89dd-79cc6bea1298",
   "metadata": {},
   "outputs": [
    {
     "name": "stdout",
     "output_type": "stream",
     "text": [
      "Logical Operators\n",
      "\n",
      "var1 and var2 is False\n",
      "var1 or var2 is True\n",
      "not var1 is False\n"
     ]
    }
   ],
   "source": [
    "print(\"Logical Operators\\n\")\n",
    "var1 = True\n",
    "var2 = False\n",
    "print('var1 and var2 is',var1 and var2)\n",
    "print('var1 or var2 is',var1 or var2)\n",
    "print('not var1 is',not var1)"
   ]
  },
  {
   "cell_type": "code",
   "execution_count": 43,
   "id": "df599fc7-169d-4831-9865-ef12f835ece2",
   "metadata": {},
   "outputs": [
    {
     "name": "stdout",
     "output_type": "stream",
     "text": [
      "Membership Operators\n",
      "\n",
      "True\n",
      "True\n",
      "True\n",
      "False\n"
     ]
    }
   ],
   "source": [
    "print(\"Membership Operators\\n\")\n",
    "var1 = 'Hello world'# string\n",
    "var2 = {1:'a',2:'b'}# dictionary\n",
    "print('H' in var1)\n",
    "print('hello' not in var2)\n",
    "print(1 in var2)\n",
    "print('a' in var2)"
   ]
  },
  {
   "cell_type": "code",
   "execution_count": 44,
   "id": "e583c9be-2f09-4ada-a9d3-215ecb8533bb",
   "metadata": {},
   "outputs": [
    {
     "name": "stdout",
     "output_type": "stream",
     "text": [
      "Identity Operators\n",
      "\n",
      "False\n",
      "True\n",
      "True\n"
     ]
    }
   ],
   "source": [
    "print(\"Identity Operators\\n\")\n",
    "var1 = 5\n",
    "var1 = 5\n",
    "var2 = 'Hello'\n",
    "var2 = 'Hello'\n",
    "var3 = [1,2,3]\n",
    "var3 = [1,2,3]\n",
    "print(var1 is not var1)\n",
    "print(var2 is var2)\n",
    "print(var3 is var3)"
   ]
  },
  {
   "cell_type": "code",
   "execution_count": 9,
   "id": "b1f84279-a64c-4b07-9197-b1f4476b5b21",
   "metadata": {},
   "outputs": [
    {
     "name": "stdout",
     "output_type": "stream",
     "text": [
      "Single if\n"
     ]
    }
   ],
   "source": [
    "x = 1\n",
    "if x == 1:\n",
    "    print ('Single if')"
   ]
  },
  {
   "cell_type": "code",
   "execution_count": 11,
   "id": "8057852b-c045-41b7-9d79-f8acc8b89ebb",
   "metadata": {},
   "outputs": [
    {
     "name": "stdout",
     "output_type": "stream",
     "text": [
      "x has a value of 1\n"
     ]
    }
   ],
   "source": [
    "# Correct indentation, note that if statement here is an example of suites - if - else\n",
    "if x == 1:\n",
    "    print ('x has a value of 1')\n",
    "else:\n",
    "    print ('x does NOT have a value of 1')"
   ]
  },
  {
   "cell_type": "code",
   "execution_count": 13,
   "id": "c4282b1d-1a72-4db7-aa02-6124d53c6a03",
   "metadata": {},
   "outputs": [
    {
     "name": "stdout",
     "output_type": "stream",
     "text": [
      "x has a value of 1\n"
     ]
    }
   ],
   "source": [
    "# Correct indentation, note that if statement here is an example of suites - if - else\n",
    "if x == 1: print ('x has a value of 1')\n",
    "else: print ('x does NOT have a value of 1')"
   ]
  },
  {
   "cell_type": "code",
   "execution_count": 18,
   "id": "cbd151a0-dbd0-447a-9f85-118bb6886b7b",
   "metadata": {},
   "outputs": [
    {
     "name": "stdout",
     "output_type": "stream",
     "text": [
      "x es mayor\n"
     ]
    }
   ],
   "source": [
    "# elif\n",
    "x = 11\n",
    "if x == 1:\n",
    "    print ('x has a value of 1')\n",
    "elif x>=5 and x<=10:\n",
    "    print ('x has a values between 5 and 10')\n",
    "else:\n",
    "    print ('x es mayor')"
   ]
  },
  {
   "cell_type": "code",
   "execution_count": 20,
   "id": "41104423-1002-45f1-b808-2eb4383d4ad9",
   "metadata": {},
   "outputs": [
    {
     "name": "stdout",
     "output_type": "stream",
     "text": [
      "x does NOT have a value of 1\n"
     ]
    }
   ],
   "source": [
    "if x == 1:\n",
    "    print ('x has a value of 1')\n",
    "else:\n",
    "    if x == 2:\n",
    "        print ('x has a value of 2')\n",
    "    else:\n",
    "        print ('x does NOT have a value of 1')"
   ]
  },
  {
   "cell_type": "code",
   "execution_count": 45,
   "id": "3d2f71bc-8348-4343-ba4b-467121a4a898",
   "metadata": {},
   "outputs": [
    {
     "name": "stdout",
     "output_type": "stream",
     "text": [
      "Iteration\n",
      "\n",
      "First Example\n",
      "item : 1\n",
      "item : 2\n",
      "item : 3\n",
      "item : 4\n",
      "item : 5\n"
     ]
    }
   ],
   "source": [
    "print (\"Iteration\\n\")\n",
    "# First Example\n",
    "print (\"First Example\")\n",
    "for item in [1,2,3,4,5]:\n",
    "    print ('item :', item)"
   ]
  },
  {
   "cell_type": "code",
   "execution_count": 46,
   "id": "22e047d4-0208-42b6-849f-3386a2617774",
   "metadata": {},
   "outputs": [
    {
     "name": "stdout",
     "output_type": "stream",
     "text": [
      "Second Example\n",
      "First loop letter : A\n",
      "First loop letter : B\n",
      "First loop letter : C\n"
     ]
    }
   ],
   "source": [
    "# Second Example\n",
    "print (\"Second Example\")\n",
    "letters = ['A', 'B', 'C']\n",
    "for letter in letters:\n",
    "    print ('First loop letter :', letter)"
   ]
  },
  {
   "cell_type": "code",
   "execution_count": 47,
   "id": "68c0f392-f47d-40de-9e10-aabeca7db465",
   "metadata": {},
   "outputs": [
    {
     "name": "stdout",
     "output_type": "stream",
     "text": [
      "Third Example\n",
      "First loop letter : A\n",
      "First loop letter : B\n",
      "First loop letter : C\n"
     ]
    }
   ],
   "source": [
    "# Third Example - Iterating by sequency index\n",
    "print (\"Third Example\")\n",
    "for index in range(len(letters)):\n",
    "    print ('First loop letter :', letters[index])"
   ]
  },
  {
   "cell_type": "code",
   "execution_count": 48,
   "id": "c78fe19d-780b-4497-8f46-9611ca8e1be8",
   "metadata": {},
   "outputs": [
    {
     "name": "stdout",
     "output_type": "stream",
     "text": [
      "Fourth Example\n",
      "item : 1\n",
      "item : 2\n",
      "item : 3\n",
      "item : 4\n",
      "item : 5\n",
      "looping over item complete!\n",
      "\n"
     ]
    }
   ],
   "source": [
    "# Fourth Example - Using else statement\n",
    "print (\"Fourth Example\")\n",
    "for item in [1,2,3,4,5]:\n",
    "    print ('item :', item)\n",
    "else:\n",
    "    print ('looping over item complete!\\n')"
   ]
  },
  {
   "cell_type": "code",
   "execution_count": 49,
   "id": "a68ff2ee-8e24-4cdc-b15f-d3776cfb022e",
   "metadata": {},
   "outputs": [
    {
     "name": "stdout",
     "output_type": "stream",
     "text": [
      "0  is  less than 5\n",
      "1  is  less than 5\n",
      "2  is  less than 5\n",
      "3  is  less than 5\n",
      "4  is  less than 5\n",
      "5  is not less than 5\n"
     ]
    }
   ],
   "source": [
    "count = 0\n",
    "while count <5:\n",
    "    print (count, \" is  less than 5\")\n",
    "    count = count + 1\n",
    "else:\n",
    "    print (count, \" is not less than 5\")"
   ]
  },
  {
   "cell_type": "code",
   "execution_count": 51,
   "id": "6fcf6bbd-7d79-4d83-90d6-0e68fd200cda",
   "metadata": {},
   "outputs": [
    {
     "name": "stdout",
     "output_type": "stream",
     "text": [
      "Lists\n",
      "\n",
      "list_1[0]:  Statistics\n",
      "list2_[1:5]:  ['b', 1, 2]\n",
      "list_1 values:  ['Statistics', 'Programming', 2016, 2017, 2018]\n"
     ]
    }
   ],
   "source": [
    "print (\"Lists\\n\")\n",
    "# Create lists\n",
    "list_1 = ['Statistics', 'Programming', 2016, 2017, 2018]\n",
    "list_2 = ['a', 'b', 1, 2, 3, 4, 5, 6, 7 ]\n",
    "# Accessing values in lists\n",
    "print (\"list_1[0]: \", list_1[0])\n",
    "print (\"list2_[1:5]: \", list_2[1:4])\n",
    "print (\"list_1 values: \", list_1)"
   ]
  },
  {
   "cell_type": "code",
   "execution_count": 53,
   "id": "c3717bee-ca8e-4ac1-b435-30e0afb3faba",
   "metadata": {},
   "outputs": [
    {
     "name": "stdout",
     "output_type": "stream",
     "text": [
      "Values of list_1:  ['Statistics', 'Programming', 2016, 2017, 2018, 2019, 2019]\n"
     ]
    }
   ],
   "source": [
    "# Adding new value to list\n",
    "list_1.append(2019)\n",
    "print (\"Values of list_1: \", list_1)"
   ]
  },
  {
   "cell_type": "code",
   "execution_count": 54,
   "id": "65d04272-925c-441c-9473-29d0f6b5da82",
   "metadata": {},
   "outputs": [
    {
     "name": "stdout",
     "output_type": "stream",
     "text": [
      "Index 2 value :  2016\n",
      "Index 2's new value :  2015\n",
      "list_1 values:  ['Statistics', 'Programming', 2015, 2017, 2018, 2019, 2019]\n"
     ]
    }
   ],
   "source": [
    "# Updating existing value of list\n",
    "print (\"Index 2 value : \", list_1[2])\n",
    "list_1[2] = 2015\n",
    "print (\"Index 2's new value : \", list_1[2])\n",
    "print (\"list_1 values: \", list_1)"
   ]
  },
  {
   "cell_type": "code",
   "execution_count": 56,
   "id": "f8b4991a-e2ef-40a4-85cc-4f3ec88b899c",
   "metadata": {},
   "outputs": [
    {
     "name": "stdout",
     "output_type": "stream",
     "text": [
      "list_1 values:  ['Statistics', 'Programming', 2015, 2017, 2018, 2019]\n",
      "After deleting value at index 5 :  ['Statistics', 'Programming', 2015, 2017, 2018]\n"
     ]
    }
   ],
   "source": [
    "# Deleting list element\n",
    "print (\"list_1 values: \", list_1)\n",
    "del list_1[5]\n",
    "print (\"After deleting value at index 5 : \", list_1)"
   ]
  },
  {
   "cell_type": "code",
   "execution_count": 57,
   "id": "23bf7e24-956c-4bee-8cd8-80a2c3a15e54",
   "metadata": {},
   "outputs": [
    {
     "name": "stdout",
     "output_type": "stream",
     "text": [
      "Tuplas\n",
      "\n",
      "list_1 values:  ('Statistics', 'Programming', 2016, 2017, 2018)\n"
     ]
    }
   ],
   "source": [
    "print (\"Tuplas\\n\")\n",
    "# Create lists\n",
    "list_1 = ('Statistics', 'Programming', 2016, 2017, 2018)\n",
    "# Accessing values in lists\n",
    "print (\"list_1 values: \", list_1)"
   ]
  },
  {
   "cell_type": "code",
   "execution_count": 58,
   "id": "74968017-c81a-4bec-b638-d0dc2cb9b184",
   "metadata": {},
   "outputs": [
    {
     "name": "stdout",
     "output_type": "stream",
     "text": [
      "Index 2 value :  2016\n"
     ]
    },
    {
     "ename": "TypeError",
     "evalue": "'tuple' object does not support item assignment",
     "output_type": "error",
     "traceback": [
      "\u001b[0;31m---------------------------------------------------------------------------\u001b[0m",
      "\u001b[0;31mTypeError\u001b[0m                                 Traceback (most recent call last)",
      "\u001b[0;32m<ipython-input-58-e776f19c454b>\u001b[0m in \u001b[0;36m<module>\u001b[0;34m\u001b[0m\n\u001b[1;32m      1\u001b[0m \u001b[0mprint\u001b[0m \u001b[0;34m(\u001b[0m\u001b[0;34m\"Index 2 value : \"\u001b[0m\u001b[0;34m,\u001b[0m \u001b[0mlist_1\u001b[0m\u001b[0;34m[\u001b[0m\u001b[0;36m2\u001b[0m\u001b[0;34m]\u001b[0m\u001b[0;34m)\u001b[0m\u001b[0;34m\u001b[0m\u001b[0;34m\u001b[0m\u001b[0m\n\u001b[0;32m----> 2\u001b[0;31m \u001b[0mlist_1\u001b[0m\u001b[0;34m[\u001b[0m\u001b[0;36m2\u001b[0m\u001b[0;34m]\u001b[0m \u001b[0;34m=\u001b[0m \u001b[0;36m2015\u001b[0m\u001b[0;34m\u001b[0m\u001b[0;34m\u001b[0m\u001b[0m\n\u001b[0m",
      "\u001b[0;31mTypeError\u001b[0m: 'tuple' object does not support item assignment"
     ]
    }
   ],
   "source": [
    "print (\"Index 2 value : \", list_1[2])\n",
    "list_1[2] = 2015 #This code display error - Las tuplas no aceptan modificaciones en su estructura"
   ]
  },
  {
   "cell_type": "code",
   "execution_count": 59,
   "id": "91c5ec7b-a5a5-4d01-8dd7-1c96b73bb67a",
   "metadata": {},
   "outputs": [
    {
     "ename": "TypeError",
     "evalue": "'tuple' object doesn't support item deletion",
     "output_type": "error",
     "traceback": [
      "\u001b[0;31m---------------------------------------------------------------------------\u001b[0m",
      "\u001b[0;31mTypeError\u001b[0m                                 Traceback (most recent call last)",
      "\u001b[0;32m<ipython-input-59-5c9606438599>\u001b[0m in \u001b[0;36m<module>\u001b[0;34m\u001b[0m\n\u001b[0;32m----> 1\u001b[0;31m \u001b[0;32mdel\u001b[0m \u001b[0mlist_1\u001b[0m\u001b[0;34m[\u001b[0m\u001b[0;36m5\u001b[0m\u001b[0;34m]\u001b[0m\u001b[0;34m\u001b[0m\u001b[0;34m\u001b[0m\u001b[0m\n\u001b[0m",
      "\u001b[0;31mTypeError\u001b[0m: 'tuple' object doesn't support item deletion"
     ]
    }
   ],
   "source": [
    "del list_1[5] #This code display error - Las tuplas no aceptan modificaciones en su estructura"
   ]
  },
  {
   "cell_type": "code",
   "execution_count": 60,
   "id": "179db098-31ac-4ee7-b7af-ba02fc40054d",
   "metadata": {},
   "outputs": [
    {
     "name": "stdout",
     "output_type": "stream",
     "text": [
      "5\n"
     ]
    }
   ],
   "source": [
    "print (len(list_1))"
   ]
  },
  {
   "cell_type": "code",
   "execution_count": 68,
   "id": "9f812734-640b-45ff-94da-13efbc3c5eaa",
   "metadata": {},
   "outputs": [
    {
     "name": "stdout",
     "output_type": "stream",
     "text": [
      "Set\n",
      "\n",
      "{0, 1, 2, 3, 4, 5, 6, 7, 8, 9}\n"
     ]
    }
   ],
   "source": [
    "# Set = Conjunto, es mutable, luego de ser creado se pueden agregar o eliminar elementos\n",
    "# No permite elementos repetido\n",
    "print (\"Set\\n\") \n",
    "# Create set\n",
    "c1 = set([0,1,1,1,2,2,3,4,5,6,7,7,8,9])\n",
    "print (c1)"
   ]
  },
  {
   "cell_type": "code",
   "execution_count": 72,
   "id": "05b95dd0-e77f-4dbe-af3a-710a8b2ce77d",
   "metadata": {},
   "outputs": [
    {
     "name": "stdout",
     "output_type": "stream",
     "text": [
      "{0, 1, 2, 3, 4, 5, 6, 7, 8, 9, 10}\n",
      "{0, 1, 2, 3, 4, 5, 6, 7, 8, 9, 10}\n"
     ]
    }
   ],
   "source": [
    "# Agregando nuevos elementos al conjunto\n",
    "c1.add(10)\n",
    "print (c1)\n",
    "c1.add(10) #No lo agrega, no permite repetidos\n",
    "print (c1)"
   ]
  },
  {
   "cell_type": "code",
   "execution_count": 73,
   "id": "1da9f8d1-b85c-4c71-bc1a-fe3c9fa4df6d",
   "metadata": {},
   "outputs": [
    {
     "name": "stdout",
     "output_type": "stream",
     "text": [
      "{0, 1, 2, 3, 4, 5, 6, 7, 8, 9, 10, 11}\n"
     ]
    }
   ],
   "source": [
    "# Actualizando elementos en el conjunto\n",
    "c1.update([8,9,10,11])\n",
    "print (c1)"
   ]
  },
  {
   "cell_type": "code",
   "execution_count": 74,
   "id": "185e8d4d-0fa2-4788-9c70-78a38bd0f919",
   "metadata": {},
   "outputs": [
    {
     "name": "stdout",
     "output_type": "stream",
     "text": [
      "{0, 2, 3, 4, 5, 6, 7, 8, 9, 10, 11}\n",
      "{0, 2, 3, 4, 6, 7, 8, 9, 10, 11}\n"
     ]
    }
   ],
   "source": [
    "# Eliminando elementos en el conjunto\n",
    "c1.remove(1)\n",
    "print (c1)\n",
    "c1.discard(5)\n",
    "print (c1)"
   ]
  },
  {
   "cell_type": "code",
   "execution_count": 75,
   "id": "c46667c3-b35b-43aa-acce-126e9db84b3a",
   "metadata": {},
   "outputs": [
    {
     "name": "stdout",
     "output_type": "stream",
     "text": [
      "{2, 3, 4, 6, 7, 8, 9, 10, 11}\n"
     ]
    }
   ],
   "source": [
    "# Eliminar elementos aleatorios\n",
    "c1.pop()\n",
    "print (c1)"
   ]
  },
  {
   "cell_type": "code",
   "execution_count": 76,
   "id": "37903ad7-6a26-48ef-a206-4b661bbacd25",
   "metadata": {},
   "outputs": [
    {
     "name": "stdout",
     "output_type": "stream",
     "text": [
      "set()\n"
     ]
    }
   ],
   "source": [
    "# Limpiar el conjunto\n",
    "c1.clear()\n",
    "print (c1)"
   ]
  },
  {
   "cell_type": "code",
   "execution_count": 77,
   "id": "344742c5-e88e-4edc-9073-71d5005eabc5",
   "metadata": {},
   "outputs": [
    {
     "name": "stdout",
     "output_type": "stream",
     "text": [
      "Frozenset\n",
      "\n",
      "frozenset({'a', 'u', 'o', 'i', 'e'})\n"
     ]
    }
   ],
   "source": [
    "# frozenset = Conjunto inmutable, luego de ser creado NO se pueden agregar o eliminar elementos\n",
    "# No permite elementos repetido\n",
    "print (\"Frozenset\\n\") \n",
    "# Create set\n",
    "c1 = frozenset(['a','e','i','o','u'])\n",
    "print (c1)"
   ]
  },
  {
   "cell_type": "code",
   "execution_count": 79,
   "id": "eaaf702d-2ef9-42f6-820f-65a9fea5a5d2",
   "metadata": {},
   "outputs": [
    {
     "ename": "AttributeError",
     "evalue": "'frozenset' object has no attribute 'add'",
     "output_type": "error",
     "traceback": [
      "\u001b[0;31m---------------------------------------------------------------------------\u001b[0m",
      "\u001b[0;31mAttributeError\u001b[0m                            Traceback (most recent call last)",
      "\u001b[0;32m<ipython-input-79-194cc9c6cd95>\u001b[0m in \u001b[0;36m<module>\u001b[0;34m\u001b[0m\n\u001b[0;32m----> 1\u001b[0;31m \u001b[0mc1\u001b[0m\u001b[0;34m.\u001b[0m\u001b[0madd\u001b[0m\u001b[0;34m(\u001b[0m\u001b[0;36m1\u001b[0m\u001b[0;34m)\u001b[0m\u001b[0;34m\u001b[0m\u001b[0;34m\u001b[0m\u001b[0m\n\u001b[0m",
      "\u001b[0;31mAttributeError\u001b[0m: 'frozenset' object has no attribute 'add'"
     ]
    }
   ],
   "source": [
    "c1.add(1) # INMUTABLE"
   ]
  },
  {
   "cell_type": "code",
   "execution_count": 82,
   "id": "99c99da0-45a9-4669-aee9-f99c5924c6a0",
   "metadata": {},
   "outputs": [
    {
     "name": "stdout",
     "output_type": "stream",
     "text": [
      "Dictionary\n",
      "\n",
      "{1: 'Chiquimula', 2: 'Jocotán', 3: 'xx'}\n"
     ]
    }
   ],
   "source": [
    "# Diccionario\n",
    "print (\"Dictionary\\n\") \n",
    "d = ({\n",
    "    1:'Chiquimula',\n",
    "    2:'Jocotán',\n",
    "    3:'Camotán'\n",
    "})\n",
    "print (d)"
   ]
  },
  {
   "cell_type": "code",
   "execution_count": 91,
   "id": "53466bd2-7740-4218-b206-3e17eea9edf0",
   "metadata": {},
   "outputs": [
    {
     "name": "stdout",
     "output_type": "stream",
     "text": [
      "{1: 'Chiquimula', 2: 'Jocotán', 3: 'xx', '4': 'Ipala', 4: 'Ipala'}\n"
     ]
    }
   ],
   "source": [
    "#Agregando un nuevo elemento al diccionario\n",
    "d[4] = 'Ipala'\n",
    "print (d)"
   ]
  },
  {
   "cell_type": "code",
   "execution_count": 94,
   "id": "995a7fa0-319f-4b3d-a543-c9cd146512bc",
   "metadata": {},
   "outputs": [
    {
     "name": "stdout",
     "output_type": "stream",
     "text": [
      "{1: 'Chiquimula', 2: 'Jocotán', 3: 'xx'}\n"
     ]
    }
   ],
   "source": [
    "#Removiendo un elemento\n",
    "d.pop(4)\n",
    "print (d)"
   ]
  },
  {
   "cell_type": "code",
   "execution_count": 96,
   "id": "a293a7b0-ddd4-49ec-a1e8-0081bfef2622",
   "metadata": {},
   "outputs": [
    {
     "name": "stdout",
     "output_type": "stream",
     "text": [
      "¿Cuál es tu nombre?\n"
     ]
    },
    {
     "name": "stdin",
     "output_type": "stream",
     "text": [
      " He\n"
     ]
    },
    {
     "name": "stdout",
     "output_type": "stream",
     "text": [
      "Hola He\n"
     ]
    }
   ],
   "source": [
    "# Ingresar valores desde el teclado\n",
    "print (\"¿Cuál es tu nombre?\")\n",
    "n = input()\n",
    "print (f\"Hola {n}\")"
   ]
  },
  {
   "cell_type": "code",
   "execution_count": null,
   "id": "65fc1893-4cdf-4090-a914-034e0ddc6330",
   "metadata": {},
   "outputs": [],
   "source": []
  }
 ],
 "metadata": {
  "kernelspec": {
   "display_name": "Python 3",
   "language": "python",
   "name": "python3"
  },
  "language_info": {
   "codemirror_mode": {
    "name": "ipython",
    "version": 3
   },
   "file_extension": ".py",
   "mimetype": "text/x-python",
   "name": "python",
   "nbconvert_exporter": "python",
   "pygments_lexer": "ipython3",
   "version": "3.8.8"
  }
 },
 "nbformat": 4,
 "nbformat_minor": 5
}
